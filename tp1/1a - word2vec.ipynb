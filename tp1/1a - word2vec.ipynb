{
 "cells": [
  {
   "cell_type": "markdown",
   "metadata": {
    "id": "Ue5hxxkdAQJg"
   },
   "source": [
    "<img src=\"https://github.com/FIUBA-Posgrado-Inteligencia-Artificial/procesamiento_lenguaje_natural/raw/main/logoFIUBA.jpg\" width=\"500\" align=\"center\">\n",
    "\n",
    "\n",
    "# Procesamiento de lenguaje natural\n",
    "## Word2vect\n"
   ]
  },
  {
   "cell_type": "code",
   "execution_count": 1,
   "metadata": {
    "id": "kCED1hh-Ioyf"
   },
   "outputs": [],
   "source": [
    "import numpy as np"
   ]
  },
  {
   "cell_type": "code",
   "execution_count": 4,
   "metadata": {
    "id": "PUbfVnzIIoMj"
   },
   "outputs": [],
   "source": [
    "def cosine_similarity(a, b):\n",
    "    return np.dot(a, b) / (np.linalg.norm(a) * (np.linalg.norm(b)))"
   ]
  },
  {
   "cell_type": "markdown",
   "metadata": {
    "id": "DMOa4JPSCJ29"
   },
   "source": [
    "### Datos"
   ]
  },
  {
   "cell_type": "code",
   "execution_count": 3,
   "metadata": {
    "id": "RIO7b8GjAC17"
   },
   "outputs": [],
   "source": [
    "corpus = np.array(['que dia es hoy', 'martes el dia de hoy es martes', 'martes muchas gracias'])"
   ]
  },
  {
   "cell_type": "markdown",
   "metadata": {
    "id": "8WqdaTmO8P1r"
   },
   "source": [
    "Documento 1 --> que dia es hoy \\\n",
    "Documento 2 --> martes el dia de hoy es martes \\\n",
    "Documento 3 --> martes muchas gracias"
   ]
  },
  {
   "cell_type": "markdown",
   "metadata": {
    "id": "FVHxBRNzCMOS"
   },
   "source": [
    "### 1 - Obtener el vocabulario del corpus (los términos utilizados)\n",
    "- Cada documento transformarlo en una lista de términos\n",
    "- Armar un vector de términos no repetidos de todos los documentos"
   ]
  },
  {
   "cell_type": "code",
   "execution_count": 35,
   "metadata": {
    "id": "3ZqTOZzDI7uv"
   },
   "outputs": [
    {
     "name": "stdout",
     "output_type": "stream",
     "text": [
      "corpus:\n",
      " [list(['que', 'dia', 'es', 'hoy'])\n",
      " list(['martes', 'el', 'dia', 'de', 'hoy', 'es', 'martes'])\n",
      " list(['martes', 'muchas', 'gracias'])]\n",
      "\n",
      "Vocabulario:\n",
      " ['el', 'que', 'es', 'dia', 'de', 'gracias', 'hoy', 'martes', 'muchas']\n"
     ]
    }
   ],
   "source": [
    "corpus_list = np.char.split(corpus, \" \")\n",
    "\n",
    "print(f\"corpus:\\n {corpus_list}\\n\")\n",
    "\n",
    "vocabulary = list(set(corpus_list.sum()))\n",
    "\n",
    "print(f\"Vocabulario:\\n {vocabulary}\")"
   ]
  },
  {
   "cell_type": "markdown",
   "metadata": {
    "id": "RUhH983FI7It"
   },
   "source": [
    "### 2- OneHot encoding\n",
    "Data una lista de textos, devolver una matriz con la representación oneHotEncoding de estos"
   ]
  },
  {
   "cell_type": "code",
   "execution_count": 46,
   "metadata": {
    "id": "Os0AAQo6I6Z1"
   },
   "outputs": [],
   "source": [
    "ohe = np.zeros((corpus_list.shape[0], len(vocabulary)))"
   ]
  },
  {
   "cell_type": "code",
   "execution_count": 47,
   "metadata": {},
   "outputs": [],
   "source": [
    "for i,dt in enumerate(corpus_list):\n",
    "    for word in dt:\n",
    "        ohe[i, np.where(np.array(vocabulary)==word)] = 1"
   ]
  },
  {
   "cell_type": "code",
   "execution_count": 48,
   "metadata": {},
   "outputs": [
    {
     "name": "stdout",
     "output_type": "stream",
     "text": [
      "Resultado Ohe: \n"
     ]
    },
    {
     "data": {
      "text/plain": [
       "array([[0., 1., 1., 1., 0., 0., 1., 0., 0.],\n",
       "       [1., 0., 1., 1., 1., 0., 1., 1., 0.],\n",
       "       [0., 0., 0., 0., 0., 1., 0., 1., 1.]])"
      ]
     },
     "execution_count": 48,
     "metadata": {},
     "output_type": "execute_result"
    }
   ],
   "source": [
    "print(\"Resultado Ohe: \")\n",
    "ohe"
   ]
  },
  {
   "cell_type": "markdown",
   "metadata": {
    "id": "IIyWGmCpJVQL"
   },
   "source": [
    "### 3- Vectores de frecuencia\n",
    "Data una lista de textos, devolver una matriz con la representación de frecuencia de estos"
   ]
  },
  {
   "cell_type": "code",
   "execution_count": 37,
   "metadata": {},
   "outputs": [],
   "source": [
    "tf = np.zeros((corpus_list.shape[0], len(vocabulary)))"
   ]
  },
  {
   "cell_type": "code",
   "execution_count": 38,
   "metadata": {
    "id": "yqij_7eHJbUi"
   },
   "outputs": [],
   "source": [
    "for i,dt in enumerate(corpus_list):\n",
    "    for word in dt:\n",
    "        tf[i, np.where(np.array(vocabulary)==word)] +=1"
   ]
  },
  {
   "cell_type": "code",
   "execution_count": 40,
   "metadata": {},
   "outputs": [
    {
     "name": "stdout",
     "output_type": "stream",
     "text": [
      "Resultado TF: \n"
     ]
    },
    {
     "data": {
      "text/plain": [
       "array([[0., 1., 1., 1., 0., 0., 1., 0., 0.],\n",
       "       [1., 0., 1., 1., 1., 0., 1., 2., 0.],\n",
       "       [0., 0., 0., 0., 0., 1., 0., 1., 1.]])"
      ]
     },
     "execution_count": 40,
     "metadata": {},
     "output_type": "execute_result"
    }
   ],
   "source": [
    "print(\"Resultado TF: \")\n",
    "tf"
   ]
  },
  {
   "cell_type": "markdown",
   "metadata": {
    "id": "z_Ot8HvWJcBu"
   },
   "source": [
    "### 4- TF-IDF\n",
    "Data una lista de textos, devolver una matriz con la representacion TFIDF"
   ]
  },
  {
   "cell_type": "code",
   "execution_count": 66,
   "metadata": {},
   "outputs": [
    {
     "name": "stdout",
     "output_type": "stream",
     "text": [
      "IDF: \n"
     ]
    },
    {
     "data": {
      "text/plain": [
       "array([0.47712125, 0.47712125, 0.17609126, 0.17609126, 0.47712125,\n",
       "       0.47712125, 0.17609126, 0.17609126, 0.47712125])"
      ]
     },
     "execution_count": 66,
     "metadata": {},
     "output_type": "execute_result"
    }
   ],
   "source": [
    "idf = np.log10(corpus_list.shape[0]/ohe.sum(axis=0))\n",
    "print(\"IDF: \")\n",
    "idf"
   ]
  },
  {
   "cell_type": "code",
   "execution_count": 71,
   "metadata": {
    "id": "waG_oWtpJjRw"
   },
   "outputs": [
    {
     "name": "stdout",
     "output_type": "stream",
     "text": [
      "TF-IDF: \n"
     ]
    },
    {
     "data": {
      "text/plain": [
       "array([[0.        , 0.47712125, 0.17609126, 0.17609126, 0.        ,\n",
       "        0.        , 0.17609126, 0.        , 0.        ],\n",
       "       [0.47712125, 0.        , 0.17609126, 0.17609126, 0.47712125,\n",
       "        0.        , 0.17609126, 0.35218252, 0.        ],\n",
       "       [0.        , 0.        , 0.        , 0.        , 0.        ,\n",
       "        0.47712125, 0.        , 0.17609126, 0.47712125]])"
      ]
     },
     "execution_count": 71,
     "metadata": {},
     "output_type": "execute_result"
    }
   ],
   "source": [
    "print(\"TF-IDF: \")\n",
    "tf * idf"
   ]
  },
  {
   "cell_type": "markdown",
   "metadata": {
    "id": "xMcsfndWJjm_"
   },
   "source": [
    "### 5 - Comparación de documentos\n",
    "Realizar una funcion que reciba el corpus y el índice de un documento y devuelva los documentos ordenados por la similitud coseno"
   ]
  },
  {
   "cell_type": "code",
   "execution_count": 85,
   "metadata": {
    "id": "CZdiop6IJpZN"
   },
   "outputs": [],
   "source": [
    "def compare_docs(corpus, index_doc):\n",
    "    corpus_list = np.char.split(corpus, \" \")\n",
    "    vocabulary = list(set(corpus_list.sum()))\n",
    "    \n",
    "    ohe = np.zeros((corpus_list.shape[0], len(vocabulary)))\n",
    "    tf = np.zeros((corpus_list.shape[0], len(vocabulary)))\n",
    "    \n",
    "    for i,dt in enumerate(corpus_list):\n",
    "        for word in dt:\n",
    "            ohe[i, np.where(np.array(vocabulary)==word)] = 1\n",
    "            tf[i, np.where(np.array(vocabulary)==word)] += 1\n",
    "    \n",
    "    idf = np.log10(corpus_list.shape[0]/ohe.sum(axis=0))\n",
    "    \n",
    "    tf_idf = tf * idf\n",
    "        \n",
    "    \n",
    "    similarity = []\n",
    "    for i,doc in enumerate(corpus_list):\n",
    "        result = cosine_similarity(tf_idf[index_doc], tf_idf[i])\n",
    "        similarity.append(result)\n",
    "    \n",
    "    return np.delete(similarity, index_doc)\n",
    "    "
   ]
  },
  {
   "cell_type": "code",
   "execution_count": 89,
   "metadata": {},
   "outputs": [
    {
     "data": {
      "text/plain": [
       "array(['que dia es hoy', 'martes el dia de hoy es martes',\n",
       "       'martes muchas gracias'], dtype='<U30')"
      ]
     },
     "execution_count": 89,
     "metadata": {},
     "output_type": "execute_result"
    }
   ],
   "source": [
    "corpus"
   ]
  },
  {
   "cell_type": "code",
   "execution_count": 88,
   "metadata": {},
   "outputs": [
    {
     "name": "stdout",
     "output_type": "stream",
     "text": [
      "Ejemplos: \n"
     ]
    }
   ],
   "source": [
    "print(\"Ejemplos: \")"
   ]
  },
  {
   "cell_type": "code",
   "execution_count": 84,
   "metadata": {},
   "outputs": [
    {
     "data": {
      "text/plain": [
       "array([0.        , 0.10845712])"
      ]
     },
     "execution_count": 84,
     "metadata": {},
     "output_type": "execute_result"
    }
   ],
   "source": [
    "compare_docs(corpus, 2) # 'martes muchas gracias'  tiene poca similitud con 'martes el dia de hoy es martes' y cero con 'que dia es hoy'"
   ]
  },
  {
   "cell_type": "code",
   "execution_count": 86,
   "metadata": {
    "scrolled": true
   },
   "outputs": [
    {
     "data": {
      "text/plain": [
       "array([0.2003419 , 0.10845712])"
      ]
     },
     "execution_count": 86,
     "metadata": {},
     "output_type": "execute_result"
    }
   ],
   "source": [
    "compare_docs(corpus, 1) # 'martes el dia de hoy es martes'  tiene mas similitud con 'que dia es hoy' que con 'martes muchas gracias'"
   ]
  },
  {
   "cell_type": "code",
   "execution_count": 87,
   "metadata": {},
   "outputs": [
    {
     "data": {
      "text/plain": [
       "array([0.2003419, 0.       ])"
      ]
     },
     "execution_count": 87,
     "metadata": {},
     "output_type": "execute_result"
    }
   ],
   "source": [
    "compare_docs(corpus, 0)"
   ]
  }
 ],
 "metadata": {
  "colab": {
   "authorship_tag": "ABX9TyO5fRYTpympAwJSVbric6dW",
   "collapsed_sections": [],
   "name": "1a - word2vec.ipynb",
   "provenance": []
  },
  "kernelspec": {
   "display_name": "Python 3 (ipykernel)",
   "language": "python",
   "name": "python3"
  },
  "language_info": {
   "codemirror_mode": {
    "name": "ipython",
    "version": 3
   },
   "file_extension": ".py",
   "mimetype": "text/x-python",
   "name": "python",
   "nbconvert_exporter": "python",
   "pygments_lexer": "ipython3",
   "version": "3.9.12"
  }
 },
 "nbformat": 4,
 "nbformat_minor": 1
}
